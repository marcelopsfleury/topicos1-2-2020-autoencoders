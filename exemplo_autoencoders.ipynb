{
 "metadata": {
  "language_info": {
   "codemirror_mode": {
    "name": "ipython",
    "version": 3
   },
   "file_extension": ".py",
   "mimetype": "text/x-python",
   "name": "python",
   "nbconvert_exporter": "python",
   "pygments_lexer": "ipython3",
   "version": "3.8.5"
  },
  "orig_nbformat": 2,
  "kernelspec": {
   "name": "python3",
   "display_name": "Python 3",
   "language": "python"
  }
 },
 "nbformat": 4,
 "nbformat_minor": 2,
 "cells": [
  {
   "cell_type": "code",
   "execution_count": null,
   "metadata": {},
   "outputs": [],
   "source": [
    "import keras\n",
    "\n",
    "from keras import layers\n",
    "from sklearn.manifold import TSNE\n",
    "from keras.datasets import mnist\n",
    "from sklearn.model_selection import train_test_split\n",
    "\n",
    "import numpy as np\n",
    "import matplotlib.pyplot as plt"
   ]
  },
  {
   "cell_type": "code",
   "execution_count": null,
   "metadata": {},
   "outputs": [],
   "source": [
    "# Carregando o banco de dados MNIST\n",
    "(x_train, y_train), (x_test, y_test) = mnist.load_data()\n",
    "# Normalizando os valores do banco de dados\n",
    "x_train = x_train.astype('float32') / 255.0\n",
    "x_test = x_test.astype('float32') / 255.0\n",
    "print(x_train.shape)\n",
    "print(x_test.shape)"
   ]
  },
  {
   "cell_type": "code",
   "execution_count": null,
   "metadata": {},
   "outputs": [],
   "source": [
    "# Achatando as imagens (array 2D de 28x28 para array 1D de tamanho 784)\n",
    "x_train = x_train.reshape((60000, 784))\n",
    "x_test = x_test.reshape(10000, 784)\n",
    "print(x_train.shape)\n",
    "print(x_test.shape)"
   ]
  },
  {
   "cell_type": "code",
   "execution_count": null,
   "metadata": {},
   "outputs": [],
   "source": [
    "plt.imshow(x_train[5].reshape(28,28), cmap=\"gray\")"
   ]
  },
  {
   "cell_type": "code",
   "execution_count": null,
   "metadata": {},
   "outputs": [],
   "source": [
    "# Tamanho da dimensão no espaço latente\n",
    "encoding_dim = 32\n",
    "# Input de um array achatado de 784 features (28x28 pixels)\n",
    "input_img = keras.Input(shape=(784,))"
   ]
  },
  {
   "cell_type": "code",
   "execution_count": null,
   "metadata": {},
   "outputs": [],
   "source": [
    "# Layer conectado ao bottleneck de 32 neurônios\n",
    "encoded = layers.Dense(encoding_dim, activation='relu')(input_img)\n",
    "# Layer que vai reconstruir a imagem a original\n",
    "decoded = layers.Dense(784, activation='sigmoid')(encoded)"
   ]
  },
  {
   "cell_type": "code",
   "execution_count": null,
   "metadata": {},
   "outputs": [],
   "source": [
    "# Modelo do autoencoder f(x) = x\n",
    "autoencoder = keras.Model(input_img, decoded)\n",
    "\n",
    "autoencoder.summary()"
   ]
  },
  {
   "cell_type": "code",
   "execution_count": null,
   "metadata": {},
   "outputs": [],
   "source": [
    "# Modelo que leva a imagem para a sua versão compacta\n",
    "encoder = keras.Model(input_img, encoded)\n",
    "# Input do modelo do encoder\n",
    "encoded_input = keras.Input(shape=(encoding_dim,))\n",
    "\n",
    "encoder.summary()"
   ]
  },
  {
   "cell_type": "code",
   "execution_count": null,
   "metadata": {},
   "outputs": [],
   "source": [
    "# Pegando a última layer do autoencoder\n",
    "decoder_layer = autoencoder.layers[-1]\n",
    "# Modelo que leva a versão reduzida para a versão \"original\"\n",
    "decoder = keras.Model(encoded_input, decoder_layer(encoded_input))\n",
    "\n",
    "decoder.summary()"
   ]
  },
  {
   "cell_type": "code",
   "execution_count": null,
   "metadata": {},
   "outputs": [],
   "source": [
    "# Treinando o modelo\n",
    "autoencoder.compile(optimizer=\"adam\", loss='mse')\n",
    "\n",
    "autoencoder.fit(x_train, x_train,\n",
    "                epochs=20,\n",
    "                batch_size=256,\n",
    "                shuffle=True,\n",
    "                validation_data=(x_test, x_test))"
   ]
  },
  {
   "cell_type": "code",
   "execution_count": null,
   "metadata": {},
   "outputs": [],
   "source": [
    "# Prevendo os valores de de dimensão reduzida\n",
    "encoded_imgs = encoder.predict(x_test)\n",
    "# Prevendo os valores da imagem original\n",
    "decoded_imgs = decoder.predict(encoded_imgs)"
   ]
  },
  {
   "cell_type": "code",
   "execution_count": null,
   "metadata": {},
   "outputs": [],
   "source": [
    "# Previsão (32 dimensões)\n",
    "plt.imshow(encoded_imgs[10].reshape(8,4), cmap=\"gray\")"
   ]
  },
  {
   "cell_type": "code",
   "execution_count": null,
   "metadata": {},
   "outputs": [],
   "source": [
    "# Original \n",
    "plt.imshow(x_test[10].reshape(28,28), cmap=\"gray\")"
   ]
  },
  {
   "cell_type": "code",
   "execution_count": null,
   "metadata": {},
   "outputs": [],
   "source": [
    "# Previsão (784 dimensões)\n",
    "plt.imshow(decoded_imgs[10].reshape(28,28), cmap=\"gray\")"
   ]
  },
  {
   "cell_type": "code",
   "execution_count": null,
   "metadata": {},
   "outputs": [],
   "source": [
    "n = 10\n",
    "plt.figure(figsize=(20, 4))\n",
    "for i in range(n):\n",
    "    # Plotando original\n",
    "    ax = plt.subplot(2, n, i + 1)\n",
    "    plt.imshow(x_test[i].reshape(28, 28))\n",
    "    plt.gray()\n",
    "    ax.get_xaxis().set_visible(False)\n",
    "    ax.get_yaxis().set_visible(False)\n",
    "\n",
    "    # Plotando previsão\n",
    "    ax = plt.subplot(2, n, i + 1 + n)\n",
    "    plt.imshow(decoded_imgs[i].reshape(28, 28))\n",
    "    plt.gray()\n",
    "    ax.get_xaxis().set_visible(False)\n",
    "    ax.get_yaxis().set_visible(False)\n",
    "    \n",
    "plt.show()"
   ]
  },
  {
   "cell_type": "code",
   "execution_count": null,
   "metadata": {},
   "outputs": [],
   "source": [
    "# Rodando o algoritmo t-sne para redução de dimensionalidade\n",
    "tsne_test = TSNE(n_components=2).fit_transform(x_test)\n",
    "tsne_encoded = TSNE(n_components=2).fit_transform(encoded_imgs)"
   ]
  },
  {
   "cell_type": "code",
   "execution_count": null,
   "metadata": {},
   "outputs": [],
   "source": [
    "# Projeção 2D do banco de teste\n",
    "cmap = plt.get_cmap('rainbow', 10)\n",
    "plt.scatter(tsne_test[:,0], tsne_test[:,1], c=y_test, edgecolor='black', cmap=cmap)\n",
    "plt.colorbar(drawedges=True)\n",
    "plt.show()"
   ]
  },
  {
   "cell_type": "code",
   "execution_count": null,
   "metadata": {},
   "outputs": [],
   "source": [
    "# Projeção 2D do espaço latente\n",
    "cmap = plt.get_cmap('rainbow', 10)\n",
    "plt.scatter(tsne_encoded[:,0], tsne_encoded[:,1], c=y_test, edgecolor='black', cmap=cmap)\n",
    "plt.colorbar(drawedges=True)\n",
    "plt.show()"
   ]
  }
 ]
}